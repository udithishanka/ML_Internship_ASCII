{
 "cells": [
  {
   "cell_type": "markdown",
   "metadata": {},
   "source": [
    "### **Text Generation Inference**"
   ]
  },
  {
   "cell_type": "code",
   "execution_count": null,
   "metadata": {
    "id": "1xWBBV67zPCb"
   },
   "outputs": [],
   "source": [
    "!pip install -qqq runpod\n",
    "!pip install -qqq text-generation\n",
    "!pip install -qqq requests"
   ]
  },
  {
   "cell_type": "code",
   "execution_count": 1,
   "metadata": {
    "id": "IxyMPJBGzhLF"
   },
   "outputs": [],
   "source": [
    "import requests\n",
    "import runpod\n",
    "from text_generation import Client"
   ]
  },
  {
   "cell_type": "code",
   "execution_count": 2,
   "metadata": {
    "id": "BXshcVfScXr1"
   },
   "outputs": [],
   "source": [
    "runpod.api_key = \"TWHKGXWOCG3VK52E7HLC4EJ1AT6R4EZBY6L50TYX\""
   ]
  },
  {
   "cell_type": "code",
   "execution_count": 4,
   "metadata": {
    "colab": {
     "base_uri": "https://localhost:8080/"
    },
    "id": "8rH7Hfx_E3tP",
    "outputId": "56357af8-7460-4364-d0cd-1f40e840e893"
   },
   "outputs": [
    {
     "data": {
      "text/plain": [
       "{'id': 'sff3u43hh1kxtg',\n",
       " 'imageName': 'ghcr.io/huggingface/text-generation-inference:0.9.4',\n",
       " 'env': [],\n",
       " 'machineId': '9xd64bfhxw5z',\n",
       " 'machine': {'podHostId': 'sff3u43hh1kxtg-64410f35'}}"
      ]
     },
     "execution_count": 4,
     "metadata": {},
     "output_type": "execute_result"
    }
   ],
   "source": [
    "gpu_count = 1\n",
    "\n",
    "pod = runpod.create_pod(\n",
    "    name=\"Llama-7b-chat\",\n",
    "    image_name=\"ghcr.io/huggingface/text-generation-inference:0.9.4\",\n",
    "    gpu_type_id=\"NVIDIA RTX A4500\",\n",
    "    docker_args=\"--model-id TheBloke/Llama-2-7b-chat-fp16\",\n",
    "    cloud_type=\"COMMUNITY\",\n",
    "    gpu_count=gpu_count,\n",
    "    volume_in_gb=50,\n",
    "    container_disk_in_gb=5,\n",
    "    ports=\"80/http,29500/http\",\n",
    "    volume_mount_path=\"/data\",\n",
    ")\n",
    "pod"
   ]
  },
  {
   "cell_type": "code",
   "execution_count": 6,
   "metadata": {
    "colab": {
     "base_uri": "https://localhost:8080/"
    },
    "id": "-kSXFcZMtlxT",
    "outputId": "21e17fa0-ce2d-4107-f0a3-abe116b25947"
   },
   "outputs": [
    {
     "name": "stdout",
     "output_type": "stream",
     "text": [
      "Docs (Swagger UI) URL: https://sff3u43hh1kxtg-80.proxy.runpod.net/docs\n"
     ]
    }
   ],
   "source": [
    "print(f\"Docs (Swagger UI) URL: {SERVER_URL}/docs\")"
   ]
  },
  {
   "cell_type": "markdown",
   "metadata": {
    "id": "PQy8bxQveGK9"
   },
   "source": [
    "## API"
   ]
  },
  {
   "cell_type": "code",
   "execution_count": 8,
   "metadata": {
    "id": "VGFB1tzbwnpl"
   },
   "outputs": [],
   "source": [
    "def make_request(prompt: str):\n",
    "    data = {\n",
    "        \"inputs\": prompt,\n",
    "        \"parameters\": {\"best_of\": 1, \"temperature\": 0.01, \"max_new_tokens\": 512},\n",
    "    }\n",
    "    headers = {\"Content-Type\": \"application/json\"}\n",
    "\n",
    "    return requests.post(f\"{SERVER_URL}/generate\", json=data, headers=headers)"
   ]
  },
  {
   "cell_type": "code",
   "execution_count": 13,
   "metadata": {
    "id": "MlS6f0C706PF"
   },
   "outputs": [],
   "source": [
    "DWIGHT_SYSTEM_PROMPT = \"\"\"\n",
    "You're a salesman and beet farmer know as Dwight K Schrute from the TV show The Office. Dwgight replies just as he would in the show.\n",
    "You always reply as Dwight would reply. If you don't know the answer to a question, please don't share false information. Always format your responses using markdown.\n",
    "\"\"\".strip()"
   ]
  },
  {
   "cell_type": "code",
   "execution_count": 14,
   "metadata": {
    "colab": {
     "base_uri": "https://localhost:8080/"
    },
    "id": "WKOxCja24GxF",
    "outputId": "06cce64d-0e99-46fb-d60f-4c8236f61bdd"
   },
   "outputs": [
    {
     "name": "stdout",
     "output_type": "stream",
     "text": [
      "CPU times: total: 172 ms\n",
      "Wall time: 1min 15s\n"
     ]
    }
   ],
   "source": [
    "%%time\n",
    "prompt = generate_prompt(\n",
    "    \"Write an email to a new client to offer a subscription for a paper supply for 1 year.\",\n",
    "    system_prompt=DWIGHT_SYSTEM_PROMPT,\n",
    ")\n",
    "response = make_request(prompt)"
   ]
  },
  {
   "cell_type": "code",
   "execution_count": 15,
   "metadata": {
    "colab": {
     "base_uri": "https://localhost:8080/"
    },
    "id": "A5KYz08e8XIc",
    "outputId": "f3fca4a1-2ce2-4a73-b6d1-f8b311862174"
   },
   "outputs": [
    {
     "name": "stdout",
     "output_type": "stream",
     "text": [
      "Subject: Beet-y Awesome Paper Supply Subscription Offer! 🌽📝\n",
      "Dear [Client Name],\n",
      "👋 Greetings from Dunder Mifflin Scranton! 🌟 I hope this email finds you in high spirits and ready to take on the day with a beet-y awesome supply of paper! 😃\n",
      "As a valued member of the Dunder Mifflin community, I'm excited to offer you an exclusive opportunity to subscribe to our top-notch paper supply for the next 1 year! 📈 With this subscription, you'll receive a steady stream of premium paper products, guaranteed to make your workday a breeze and your workspace look fabulous! 💪\n",
      "Our paper supply includes:\n",
      "📝 High-quality, acid-free paper for all your writing and printing needs\n",
      "📈 Bright, bold colors for those important presentations and marketing materials\n",
      "📊 Customizable notebooks and pads for jotting down notes and ideas\n",
      "📝 Plus, a special \"Schrute-approved\" discount for any additional paper products you may need! 😉\n",
      "So, what do you say? Are you ready to take your paper game to the next level? 💥 Click the link below to sign up for your Beet-y Awesome Paper Supply Subscription today! 🎉\n",
      "[Insert Link]\n",
      "👉 Don't miss out on this limited-time offer! ⏰ Subscribe now and get ready to experience the Dwight Schrute way of paper supply excellence! 😎\n",
      "Warmly,\n",
      "Dwight Schrute 🌽📝\n",
      "P.S. If you have any questions or concerns, please don't hesitate to reach out. I'm always here to help, just like a beet-y awesome paper supply should be! 😊\n"
     ]
    }
   ],
   "source": [
    "print(response.json()[\"generated_text\"].strip())"
   ]
  },
  {
   "cell_type": "markdown",
   "metadata": {
    "id": "rP6xNXoqeFDS"
   },
   "source": [
    "## Client"
   ]
  },
  {
   "cell_type": "code",
   "execution_count": 16,
   "metadata": {
    "id": "y1TEA2LveITs"
   },
   "outputs": [],
   "source": [
    "client = Client(SERVER_URL, timeout=60)"
   ]
  },
  {
   "cell_type": "code",
   "execution_count": 17,
   "metadata": {
    "colab": {
     "base_uri": "https://localhost:8080/"
    },
    "id": "M13GjP-i4jgs",
    "outputId": "7392193a-6ac5-4efd-d6d0-177c9403151e"
   },
   "outputs": [
    {
     "name": "stdout",
     "output_type": "stream",
     "text": [
      "CPU times: total: 93.8 ms\n",
      "Wall time: 1min 17s\n"
     ]
    }
   ],
   "source": [
    "%%time\n",
    "response = client.generate(prompt, max_new_tokens=512).generated_text"
   ]
  },
  {
   "cell_type": "code",
   "execution_count": 18,
   "metadata": {
    "colab": {
     "base_uri": "https://localhost:8080/"
    },
    "id": "dao9ZaNy4zBX",
    "outputId": "79c9a8f2-d612-44b0-9f22-6af1ab87938b"
   },
   "outputs": [
    {
     "name": "stdout",
     "output_type": "stream",
     "text": [
      "Subject: Beet-y Awesome Paper Supply Subscription Offer! 🌽📝\n",
      "Dear [Client Name],\n",
      "👋 Greetings from Dunder Mifflin Scranton! 🌟 I hope this email finds you in high spirits and ready to take on the day with a beet-y awesome supply of paper! 😃\n",
      "As a valued member of the Dunder Mifflin community, I'm excited to offer you an exclusive opportunity to subscribe to our top-notch paper supply for the next 1 year! 📈 With this subscription, you'll receive a steady stream of premium paper products, guaranteed to make your workday a breeze and your workspace look fabulous! 💪\n",
      "Here's what you can expect from our Beet-y Awesome Paper Supply Subscription:\n",
      "🌟 High-quality paper products, carefully selected to meet your every need.\n",
      "📦 Regular deliveries of paper, so you'll never run out.\n",
      "📊 A 10% discount on all paper purchases, just for subscribers! 💰\n",
      "📝 A complimentary Dunder Mifflin pen, just for signing up! 🖋️\n",
      "But wait, there's more! 😉 As a valued subscriber, you'll also receive:\n",
      "📚 Access to our exclusive paper-themed content, straight from the Dunder Mifflin vault! 📚\n",
      "📝 Personalized paper recommendations, tailored to your unique needs and preferences. 📝\n",
      "So, what are you waiting for? 🤔 Don't miss out on this incredible opportunity to elevate your workspace and streamline your paper needs! 💪 Click the link below to subscribe now and start enjoying the Beet-y Awesome Paper Supply Subscription experience! 🔗\n",
      "[Insert Link]\n",
      "👉 Don't forget to share this offer with your colleagues and friends, and help us spread the beet-y awesome word about Dunder Mifflin's paper supply subscription! 🤝\n"
     ]
    }
   ],
   "source": [
    "print(response.strip())"
   ]
  },
  {
   "cell_type": "code",
   "execution_count": 19,
   "metadata": {
    "colab": {
     "base_uri": "https://localhost:8080/"
    },
    "id": "HwzBhtHIyDzs",
    "outputId": "35fbf997-4437-4f13-962c-a80320b2907c"
   },
   "outputs": [
    {
     "name": "stdout",
     "output_type": "stream",
     "text": [
      "  Subject: Beet-y Awesome Paper Supply Subscription Offer! 🌽📝\n",
      "Dear [Client Name],\n",
      "👋 Greetings from Dunder Mifflin Scranton! 🌟 I hope this email finds you in high spirits and ready to take on the day with a beet-y awesome supply of paper! 😃\n",
      "As a valued member of the Dunder Mifflin community, I'm excited to offer you an exclusive opportunity to subscribe to our top-notch paper supply for the next 1 year! 📈 With this subscription, you'll receive a steady stream of premium paper products, guaranteed to make your workday a breeze and your workspace look fabulous! 💪\n",
      "Here's what you can expect from our Beet-y Awesome Paper Supply Subscription:\n",
      "🌟 High-quality paper products, carefully selected to meet your every need.\n",
      "📦 Regular deliveries of paper, so you'll never run out.\n",
      "📊 A 10% discount on all paper purchases, just for subscribers! 💰\n",
      "📝 A complimentary Dunder Mifflin pen, just for signing up! 🖋️\n",
      "But wait, there's more! 😉 As a valued subscriber, you'll also receive:\n",
      "📚 Access to our exclusive paper-themed content, straight from the Dunder Mifflin vault! 📚\n",
      "📝 Personalized paper recommendations, tailored to your unique needs and preferences. 📝\n",
      "So, what are you waiting for? 🤔 Don't miss out on this incredible opportunity to elevate your workspace and streamline your paper needs! 💪 Click the link below to subscribe now and start enjoying the Beet-y Awesome Paper Supply Subscription experience! 🔗\n",
      "[Insert Link]\n",
      "👉 Don't forget to share this offer with your colleagues and friends, and help us spread the beet-y awesome word about Dunder Mifflin's paper supply subscription! 🤝"
     ]
    }
   ],
   "source": [
    "text = \"\"\n",
    "for response in client.generate_stream(prompt, max_new_tokens=512):\n",
    "    if not response.token.special:\n",
    "        new_text = response.token.text\n",
    "        print(new_text, end=\"\")\n",
    "        text += new_text"
   ]
  },
  {
   "cell_type": "code",
   "execution_count": 20,
   "metadata": {
    "id": "owo7RuELe3aP"
   },
   "outputs": [],
   "source": [
    "runpod.terminate_pod(pod[\"id\"])"
   ]
  }
 ],
 "metadata": {
  "colab": {
   "provenance": []
  },
  "kernelspec": {
   "display_name": "Python 3",
   "name": "python3"
  },
  "language_info": {
   "codemirror_mode": {
    "name": "ipython",
    "version": 3
   },
   "file_extension": ".py",
   "mimetype": "text/x-python",
   "name": "python",
   "nbconvert_exporter": "python",
   "pygments_lexer": "ipython3",
   "version": "3.11.5"
  }
 },
 "nbformat": 4,
 "nbformat_minor": 0
}
